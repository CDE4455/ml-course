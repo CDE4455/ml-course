{
 "cells": [
  {
   "cell_type": "markdown",
   "metadata": {},
   "source": [
    "# Условия"
   ]
  },
  {
   "cell_type": "markdown",
   "metadata": {},
   "source": [
    "## Простое ветвление"
   ]
  },
  {
   "cell_type": "code",
   "execution_count": 2,
   "metadata": {},
   "outputs": [
    {
     "name": "stdout",
     "output_type": "stream",
     "text": [
      "условие верное\n",
      "конец программы\n"
     ]
    }
   ],
   "source": [
    "condition = True\n",
    "\n",
    "if condition:\n",
    "    print('условие верное')\n",
    "print('конец программы')\n"
   ]
  },
  {
   "cell_type": "markdown",
   "metadata": {},
   "source": [
    "## Альтернативы"
   ]
  },
  {
   "cell_type": "code",
   "execution_count": 4,
   "metadata": {},
   "outputs": [
    {
     "name": "stdout",
     "output_type": "stream",
     "text": [
      "условие неверное\n",
      "конец программы\n"
     ]
    }
   ],
   "source": [
    "condition = False\n",
    "\n",
    "if condition:\n",
    "    print('условие верное')\n",
    "else: \n",
    "    print('условие неверное')\n",
    "print('конец программы')"
   ]
  },
  {
   "cell_type": "markdown",
   "metadata": {},
   "source": [
    "## Сравнения"
   ]
  },
  {
   "cell_type": "markdown",
   "metadata": {},
   "source": [
    "* Больше чем: >\n",
    "* Меньше чем: <\n",
    "* Больше или равно: >=\n",
    "* Меньше или равно: <="
   ]
  },
  {
   "cell_type": "code",
   "execution_count": 7,
   "metadata": {},
   "outputs": [
    {
     "name": "stdout",
     "output_type": "stream",
     "text": [
      "499\n",
      "Хватит тратить!\n"
     ]
    }
   ],
   "source": [
    "many = int(input())\n",
    "if many>=500:\n",
    "    print(\"Можно тратить!\")\n",
    "else:\n",
    "    print(\"Хватит тратить!\")"
   ]
  },
  {
   "cell_type": "markdown",
   "metadata": {},
   "source": [
    "## Равенство и неравенство\n"
   ]
  },
  {
   "cell_type": "markdown",
   "metadata": {},
   "source": [
    "* == Возвращает True если значения равны\n",
    "\n",
    "* != Возвращает False если значения не равны"
   ]
  },
  {
   "cell_type": "code",
   "execution_count": 9,
   "metadata": {},
   "outputs": [
    {
     "name": "stdout",
     "output_type": "stream",
     "text": [
      "банан\n",
      "Нельзя!\n"
     ]
    }
   ],
   "source": [
    "product = input()\n",
    "if product==\"банан\":\n",
    "    print(\"Нельзя!\")\n",
    "else:\n",
    "    print(\"Можно!\")\n"
   ]
  },
  {
   "cell_type": "markdown",
   "metadata": {},
   "source": [
    "## Значения как условия"
   ]
  },
  {
   "cell_type": "code",
   "execution_count": 10,
   "metadata": {},
   "outputs": [
    {
     "name": "stdout",
     "output_type": "stream",
     "text": [
      "1\n"
     ]
    }
   ],
   "source": [
    "count = 0\n",
    "\n",
    "if count:\n",
    "    count = 0\n",
    "else:\n",
    "    count = 1\n",
    "\n",
    "print(count)"
   ]
  },
  {
   "cell_type": "code",
   "execution_count": 11,
   "metadata": {},
   "outputs": [
    {
     "name": "stdout",
     "output_type": "stream",
     "text": [
      "Fedor\n"
     ]
    }
   ],
   "source": [
    "user_name = ''\n",
    "\n",
    "if user_name:\n",
    "    user_name = ''\n",
    "else:\n",
    "    user_name = 'Fedor'\n",
    "\n",
    "print(user_name)"
   ]
  },
  {
   "cell_type": "markdown",
   "metadata": {},
   "source": [
    "## Логические операторы"
   ]
  },
  {
   "cell_type": "code",
   "execution_count": 13,
   "metadata": {},
   "outputs": [
    {
     "name": "stdout",
     "output_type": "stream",
     "text": [
      "Вам разрешен доступ\n"
     ]
    }
   ],
   "source": [
    "user_status = 4\n",
    "user_name = 'Fedor'\n",
    "\n",
    "if user_status > 2 or user_name == 'Fedor':\n",
    "    print('Вам разрешен доступ')"
   ]
  },
  {
   "cell_type": "markdown",
   "metadata": {},
   "source": [
    "## Условия в альтернативах"
   ]
  },
  {
   "cell_type": "code",
   "execution_count": 14,
   "metadata": {},
   "outputs": [
    {
     "name": "stdout",
     "output_type": "stream",
     "text": [
      "сработал elif\n"
     ]
    }
   ],
   "source": [
    "first_condition = False\n",
    "second_condition = True\n",
    "if first_condition:\n",
    "    # блок кода\n",
    "    print('сработал if')\n",
    "elif second_condition:\n",
    "    # блок кода\n",
    "    print('сработал elif')\n",
    "else:\n",
    "    print('сработал else')"
   ]
  },
  {
   "cell_type": "markdown",
   "metadata": {},
   "source": [
    "В вашем районе есть три ресторана: kfc, mcDonalds и burger king.\n",
    "\n",
    "На вход программе поступает одно число. Час в сутках от 0 до 23.\n",
    "\n",
    "Если отсортировать рестораны по отдаленности, то список будет таким: kfc, burger king и mcDonalds.\n",
    "\n",
    "Но у всех рестаранов разные часы работы.\n",
    "\n",
    "Kfc работает с 8 до 19. Перерыв с 13 до 14.\n",
    "\n",
    "Burger king работает с 9 до 17. Перерыв на обед с 14 до 15.\n",
    "\n",
    "mcDonalds работает с 7 до 20 без перерывов.\n",
    "\n",
    "Если все рестораны закрыты, то нужно сказать: 'все закрыто, сидите дома'. Иначе нужно вывести название ресторана."
   ]
  },
  {
   "cell_type": "code",
   "execution_count": 17,
   "metadata": {},
   "outputs": [
    {
     "name": "stdout",
     "output_type": "stream",
     "text": [
      "8\n",
      "mcDonalds\n"
     ]
    }
   ],
   "source": [
    "time = int(input())\n",
    "if 8<time and time<19 and time!=13 and time!=14:\n",
    "    print(\"Kfc\")\n",
    "elif 9<time and time<17 and time!=14 and time!=15:\n",
    "    print(\"Burger king\")\n",
    "elif 7<time and time<20:\n",
    "    print(\"mcDonalds\")\n",
    "else:\n",
    "    print('Все закрыто, сидите дома')"
   ]
  },
  {
   "cell_type": "code",
   "execution_count": null,
   "metadata": {},
   "outputs": [],
   "source": [
    "hour = int(input())\n",
    "\n",
    "\n",
    "if 8 < hour < 13 or 14 < hour < 19:\n",
    "    print('Kfc')\n",
    "elif 9 < hour < 14 or 15 < hour < 17:\n",
    "    print('Burger king')\n",
    "elif 7 < hour < 20:\n",
    "    print('mcDonalds')\n",
    "else:\n",
    "    print('Все закрыто, сидите дома')"
   ]
  },
  {
   "cell_type": "markdown",
   "metadata": {},
   "source": [
    "В отпуске нужно гулять, чтобы отдохнуть, узнать много нового и исследовать другую культуру. Но этот процесс мы тоже хотим автоматизировать. Ваша задача вывести число минут которое мы потратим на прогулку сегодня.\n",
    "\n",
    "Если на улице дождь, то длительность прогулки равна нулю.\n",
    "\n",
    "Если температура ниже 10 градусов или выше 30, то гулять тоже не будем.\n",
    "\n",
    "Если температура 20 градусов, то гуляем 3.5 часа (это идеальная температура для нас).\n",
    "\n",
    "В остальных случаях каждое отклонение от идеальной температуры на градус уменьшает время прогулки на 20 минут.\n",
    "\n",
    "На вход программе подается два значения: Дождь на улице или нет(два возможных значения: да или нет), и температура в градусах."
   ]
  },
  {
   "cell_type": "code",
   "execution_count": 11,
   "metadata": {},
   "outputs": [
    {
     "name": "stdout",
     "output_type": "stream",
     "text": [
      "True\n",
      "20\n",
      "Не будем!\n",
      "0.0\n"
     ]
    }
   ],
   "source": [
    "rain = input()\n",
    "t = int(input())\n",
    "if t > 30 or t < 10 or rain=='True':\n",
    "    print(\"Не будем!\")\n",
    "    time = 0.0\n",
    "elif t == 20:\n",
    "    time = 3.5\n",
    "elif t > 20:\n",
    "    time = 3.5-(t-20)*1/3\n",
    "else:\n",
    "    time = 3.5-(20-t)*1/3    \n",
    "print(time)"
   ]
  },
  {
   "cell_type": "code",
   "execution_count": 8,
   "metadata": {},
   "outputs": [
    {
     "name": "stdout",
     "output_type": "stream",
     "text": [
      "False\n",
      "False <class 'str'> False\n"
     ]
    }
   ],
   "source": []
  },
  {
   "cell_type": "code",
   "execution_count": null,
   "metadata": {},
   "outputs": [],
   "source": []
  }
 ],
 "metadata": {
  "kernelspec": {
   "display_name": "Python 3",
   "language": "python",
   "name": "python3"
  },
  "language_info": {
   "codemirror_mode": {
    "name": "ipython",
    "version": 3
   },
   "file_extension": ".py",
   "mimetype": "text/x-python",
   "name": "python",
   "nbconvert_exporter": "python",
   "pygments_lexer": "ipython3",
   "version": "3.7.3"
  }
 },
 "nbformat": 4,
 "nbformat_minor": 2
}
