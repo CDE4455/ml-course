{
 "cells": [
  {
   "cell_type": "code",
   "execution_count": 1,
   "metadata": {},
   "outputs": [],
   "source": [
    "from collections import Counter"
   ]
  },
  {
   "cell_type": "code",
   "execution_count": 2,
   "metadata": {},
   "outputs": [
    {
     "name": "stdout",
     "output_type": "stream",
     "text": [
      "Counter({'unacc': 3, 'good': 3})\n"
     ]
    }
   ],
   "source": [
    "labels = [\"unacc\",\"unacc\",\"unacc\", \"good\", \"good\", \"good\"]\n",
    "label_counts = Counter(labels)\n",
    "index = 1\n",
    "print(label_counts)"
   ]
  },
  {
   "cell_type": "code",
   "execution_count": 3,
   "metadata": {},
   "outputs": [
    {
     "data": {
      "text/plain": [
       "0.5"
      ]
     },
     "execution_count": 3,
     "metadata": {},
     "output_type": "execute_result"
    }
   ],
   "source": [
    "1-(3/6)**2-(3/6)**2"
   ]
  },
  {
   "cell_type": "code",
   "execution_count": 4,
   "metadata": {},
   "outputs": [],
   "source": [
    "for i in label_counts:\n",
    "    probabilityoflabel = (label_counts[i]/len(labels))**2\n",
    "    index = index - probabilityoflabel"
   ]
  },
  {
   "cell_type": "code",
   "execution_count": 5,
   "metadata": {},
   "outputs": [
    {
     "name": "stdout",
     "output_type": "stream",
     "text": [
      "0.5\n"
     ]
    }
   ],
   "source": [
    "print(index)"
   ]
  },
  {
   "cell_type": "code",
   "execution_count": 6,
   "metadata": {},
   "outputs": [],
   "source": [
    "unsplit_labels = [\"unacc\", \"unacc\", \"unacc\", \"unacc\", \"unacc\", \"unacc\", \"good\", \"good\", \"good\", \"good\", \"vgood\", \"vgood\", \"vgood\"]"
   ]
  },
  {
   "cell_type": "code",
   "execution_count": 7,
   "metadata": {},
   "outputs": [],
   "source": [
    "split_labels_1 = [\n",
    "  [\"unacc\", \"unacc\", \"unacc\", \"unacc\", \"unacc\", \"unacc\", \"good\", \"good\", \"vgood\"], \n",
    "  [ \"good\", \"good\"], \n",
    "  [\"vgood\", \"vgood\"]\n",
    "]"
   ]
  },
  {
   "cell_type": "code",
   "execution_count": 8,
   "metadata": {},
   "outputs": [],
   "source": [
    "def gini(dataset):\n",
    "    impurity = 1\n",
    "    label_counts = Counter(dataset)\n",
    "    for label in label_counts:\n",
    "        prob_of_label = label_counts[label] / len(dataset)\n",
    "        impurity -= prob_of_label ** 2\n",
    "    return impurity"
   ]
  },
  {
   "cell_type": "code",
   "execution_count": 9,
   "metadata": {},
   "outputs": [
    {
     "data": {
      "text/plain": [
       "0.6390532544378698"
      ]
     },
     "execution_count": 9,
     "metadata": {},
     "output_type": "execute_result"
    }
   ],
   "source": [
    "gini(unsplit_labels)"
   ]
  },
  {
   "cell_type": "code",
   "execution_count": 10,
   "metadata": {},
   "outputs": [],
   "source": [
    "split = gini(unsplit_labels)"
   ]
  },
  {
   "cell_type": "code",
   "execution_count": 11,
   "metadata": {},
   "outputs": [
    {
     "data": {
      "text/plain": [
       "0.6390532544378698"
      ]
     },
     "execution_count": 11,
     "metadata": {},
     "output_type": "execute_result"
    }
   ],
   "source": [
    "split"
   ]
  },
  {
   "cell_type": "code",
   "execution_count": 12,
   "metadata": {},
   "outputs": [
    {
     "name": "stdout",
     "output_type": "stream",
     "text": [
      "0.14522609394404257\n"
     ]
    }
   ],
   "source": [
    "for i in split_labels_1:\n",
    "    split -= gini(i)\n",
    "print(split)"
   ]
  },
  {
   "cell_type": "code",
   "execution_count": 13,
   "metadata": {},
   "outputs": [],
   "source": [
    "unsplit_labels = [\"unacc\", \"unacc\", \"unacc\", \"unacc\", \"unacc\", \"unacc\", \"good\", \"good\", \"good\", \"good\", \"vgood\", \"vgood\", \"vgood\"]"
   ]
  },
  {
   "cell_type": "code",
   "execution_count": 14,
   "metadata": {},
   "outputs": [],
   "source": [
    "split_labels_2 = [\n",
    "  [\"unacc\", \"unacc\", \"unacc\", \"unacc\",\"unacc\", \"unacc\", \"good\", \"good\", \"good\", \"good\"], \n",
    "  [\"vgood\", \"vgood\", \"vgood\"]\n",
    "]"
   ]
  },
  {
   "cell_type": "code",
   "execution_count": 15,
   "metadata": {},
   "outputs": [],
   "source": [
    "def gini(dataset):\n",
    "    impurity = 1\n",
    "    label_counts = Counter(dataset)\n",
    "    for label in label_counts:\n",
    "        prob_of_label = label_counts[label] / len(dataset)\n",
    "        impurity -= prob_of_label ** 2\n",
    "    return impurity"
   ]
  },
  {
   "cell_type": "code",
   "execution_count": 16,
   "metadata": {},
   "outputs": [
    {
     "data": {
      "text/plain": [
       "0.6390532544378698"
      ]
     },
     "execution_count": 16,
     "metadata": {},
     "output_type": "execute_result"
    }
   ],
   "source": [
    "gini(unsplit_labels)"
   ]
  },
  {
   "cell_type": "code",
   "execution_count": 17,
   "metadata": {},
   "outputs": [],
   "source": [
    "split = gini(unsplit_labels)"
   ]
  },
  {
   "cell_type": "code",
   "execution_count": 18,
   "metadata": {},
   "outputs": [
    {
     "name": "stdout",
     "output_type": "stream",
     "text": [
      "0.15905325443786977\n"
     ]
    }
   ],
   "source": [
    "for i in split_labels_2:\n",
    "    split -= gini(i)\n",
    "print(split)"
   ]
  },
  {
   "cell_type": "markdown",
   "metadata": {},
   "source": [
    "0.15905325443786977\n",
    "0.14522609394404257"
   ]
  },
  {
   "cell_type": "code",
   "execution_count": 19,
   "metadata": {},
   "outputs": [],
   "source": [
    "def gini(dataset):\n",
    "    impurity = 1\n",
    "    label_counts = Counter(dataset)\n",
    "    for label in label_counts:\n",
    "        prob_of_label = label_counts[label] / len(dataset)\n",
    "        impurity -= prob_of_label ** 2\n",
    "    return impurity\n",
    "\n",
    "def information_gain(starting_labels, split_labels):\n",
    "    info_gain = gini(starting_labels)\n",
    "    for subset in split_labels:\n",
    "        info_gain -= gini(subset)*(len(subset)/len(starting_labels))\n",
    "    return info_gain\n",
    "\n",
    "cars = [['med', 'low', '3', '4', 'med', 'med'],\n",
    "        ['med', 'vhigh', '4', 'more', 'small', 'high'], \n",
    "        ['high', 'med', '3', '2', 'med', 'low'], \n",
    "        ['med', 'low', '4', '4', 'med', 'low'], \n",
    "        ['med', 'low', '5more', '2', 'big', 'med'], \n",
    "        ['med', 'med', '2', 'more', 'big', 'high'], \n",
    "        ['med', 'med', '2', 'more', 'med', 'med'], \n",
    "        ['vhigh', 'vhigh', '2', '2', 'med', 'low'], \n",
    "        ['high', 'med', '4', '2', 'big', 'low'], \n",
    "        ['low', 'low', '2', '4', 'big', 'med']]\n",
    "car_labels = ['acc', 'acc', 'unacc', 'unacc', 'unacc', 'vgood', 'acc', 'unacc', 'unacc', 'good']\n",
    "def split(dataset, labels, column):\n",
    "    data_subsets = []\n",
    "    label_subsets = []\n",
    "    counts = list(set([data[column] for data in dataset]))\n",
    "    counts.sort()\n",
    "    for k in counts:\n",
    "        new_data_subset = []\n",
    "        new_label_subset = []\n",
    "        for i in range(len(dataset)):\n",
    "            if dataset[i][column] == k:\n",
    "                new_data_subset.append(dataset[i])\n",
    "                new_label_subset.append(labels[i])\n",
    "        data_subsets.append(new_data_subset)\n",
    "        label_subsets.append(new_label_subset)\n",
    "    return data_subsets, label_subsets\n",
    "z = []\n",
    "for i in range(len(cars[0])):\n",
    "    split_data, split_labels = split(cars, car_labels, i)\n",
    "    z.append(round(information_gain(car_labels, split_labels), 2))\n",
    "    "
   ]
  },
  {
   "cell_type": "code",
   "execution_count": 20,
   "metadata": {},
   "outputs": [
    {
     "data": {
      "text/plain": [
       "[0.27, 0.04, 0.11, 0.31, 0.15, 0.29]"
      ]
     },
     "execution_count": 20,
     "metadata": {},
     "output_type": "execute_result"
    }
   ],
   "source": [
    "z"
   ]
  },
  {
   "cell_type": "code",
   "execution_count": 21,
   "metadata": {},
   "outputs": [],
   "source": [
    "z.append(1)"
   ]
  },
  {
   "cell_type": "code",
   "execution_count": 22,
   "metadata": {},
   "outputs": [
    {
     "name": "stdout",
     "output_type": "stream",
     "text": [
      "[0.27, 0.04, 0.11, 0.31, 0.15, 0.29, 1]\n"
     ]
    }
   ],
   "source": [
    "print(z)"
   ]
  },
  {
   "cell_type": "code",
   "execution_count": 23,
   "metadata": {},
   "outputs": [
    {
     "data": {
      "text/plain": [
       "1"
      ]
     },
     "execution_count": 23,
     "metadata": {},
     "output_type": "execute_result"
    }
   ],
   "source": [
    "max(z)"
   ]
  },
  {
   "cell_type": "code",
   "execution_count": null,
   "metadata": {},
   "outputs": [],
   "source": []
  }
 ],
 "metadata": {
  "kernelspec": {
   "display_name": "Python 3",
   "language": "python",
   "name": "python3"
  },
  "language_info": {
   "codemirror_mode": {
    "name": "ipython",
    "version": 3
   },
   "file_extension": ".py",
   "mimetype": "text/x-python",
   "name": "python",
   "nbconvert_exporter": "python",
   "pygments_lexer": "ipython3",
   "version": "3.7.3"
  }
 },
 "nbformat": 4,
 "nbformat_minor": 2
}