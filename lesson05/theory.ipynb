{
 "cells": [
  {
   "cell_type": "markdown",
   "metadata": {},
   "source": [
    "# Функции"
   ]
  },
  {
   "cell_type": "code",
   "execution_count": 6,
   "metadata": {},
   "outputs": [
    {
     "name": "stdout",
     "output_type": "stream",
     "text": [
      "++++++++++++\n",
      "|12        |\n",
      "++++++++++++\n",
      "++++++++++++\n",
      "|460       |\n",
      "++++++++++++\n"
     ]
    }
   ],
   "source": [
    "average_value = 12\n",
    "\n",
    "# красивый вывод\n",
    "print('++++++++++++')\n",
    "print(f'|{average_value}{\" \" * (10 - len(str(average_value)))}|')\n",
    "print('++++++++++++')\n",
    "\n",
    "# код\n",
    "\n",
    "median_value = 460\n",
    "\n",
    "# красивый вывод\n",
    "print('++++++++++++')\n",
    "print(f'|{median_value}{\" \" * (10 - len(str(median_value)))}|')\n",
    "print('++++++++++++')"
   ]
  },
  {
   "cell_type": "code",
   "execution_count": 11,
   "metadata": {},
   "outputs": [
    {
     "name": "stdout",
     "output_type": "stream",
     "text": [
      "++++++++++++\n",
      "|12        |\n",
      "++++++++++++\n",
      "++++++++++++\n",
      "|460       |\n",
      "++++++++++++\n"
     ]
    }
   ],
   "source": [
    "def beautiful_output(val):\n",
    "    # красивый вывод\n",
    "    print('++++++++++++')\n",
    "    print(f'|{val}{\" \" * (10 - len(str(val)))}|')\n",
    "    print('++++++++++++')\n",
    "\n",
    "average_value = 12\n",
    "beautiful_output(average_value)\n",
    "median_value = 460\n",
    "beautiful_output(median_value)"
   ]
  },
  {
   "cell_type": "code",
   "execution_count": 12,
   "metadata": {},
   "outputs": [],
   "source": [
    "def fahrenheit_to_celsius(f): \n",
    "    с = (f - 32) * 5.0/9.0\n",
    "    return с"
   ]
  },
  {
   "cell_type": "code",
   "execution_count": 17,
   "metadata": {},
   "outputs": [
    {
     "name": "stdout",
     "output_type": "stream",
     "text": [
      "12\n"
     ]
    },
    {
     "data": {
      "text/plain": [
       "-11.11111111111111"
      ]
     },
     "execution_count": 17,
     "metadata": {},
     "output_type": "execute_result"
    }
   ],
   "source": [
    "fahrenheit_to_celsius(int(input()))"
   ]
  },
  {
   "cell_type": "code",
   "execution_count": 18,
   "metadata": {},
   "outputs": [
    {
     "data": {
      "text/plain": [
       "12"
      ]
     },
     "execution_count": 18,
     "metadata": {},
     "output_type": "execute_result"
    }
   ],
   "source": [
    "12"
   ]
  },
  {
   "cell_type": "code",
   "execution_count": 22,
   "metadata": {},
   "outputs": [
    {
     "name": "stdout",
     "output_type": "stream",
     "text": [
      "120\n"
     ]
    }
   ],
   "source": [
    "a = fahrenheit_to_celsius(int(input()))"
   ]
  },
  {
   "cell_type": "code",
   "execution_count": 23,
   "metadata": {},
   "outputs": [
    {
     "data": {
      "text/plain": [
       "48.888888888888886"
      ]
     },
     "execution_count": 23,
     "metadata": {},
     "output_type": "execute_result"
    }
   ],
   "source": [
    "a"
   ]
  },
  {
   "cell_type": "markdown",
   "metadata": {},
   "source": [
    "У нас в компании очень много бухгалтерии в разных отделах. Нам очень нужно написать функцию для поиска отчетов за конкретный месяц. Это должна быть функция потому что мы хотим ее использовать в разных отделах. На вход вам приходит три аргумента: reports (список строк с названиями отчетов), year (год за который нужно получить отчеты), month (месяц за который нужно получить отчеты).\n",
    "\n",
    "Список reports состоит из строк в формате: \"ДД-ММ-ГГГГ\".\n",
    "\n",
    "Ваша задача вернуть из функции список со строками.\n",
    "\n",
    "На вход программе подается в первой строке список отчетов через пробел, во второй строке год за который нужно получить отчеты, в третьей строке месяц за который нужно получить отчеты.\n",
    "\n",
    "На выход нужно вывести список отчетов которые подошли."
   ]
  },
  {
   "cell_type": "code",
   "execution_count": 44,
   "metadata": {},
   "outputs": [
    {
     "name": "stdout",
     "output_type": "stream",
     "text": [
      "01-01-2020 02-02-2020 03-01-2020\n",
      "2020\n",
      "02\n"
     ]
    }
   ],
   "source": [
    "reports, year, month = input().split(), input(), input()"
   ]
  },
  {
   "cell_type": "code",
   "execution_count": 49,
   "metadata": {},
   "outputs": [],
   "source": [
    "def filter_documents(reports, year, month):\n",
    "    for i in reports:\n",
    "        c = i.split(\"-\")\n",
    "        decision = (c[1]==month and c[2]==year)\n",
    "        if decision == True:\n",
    "            print(i)"
   ]
  },
  {
   "cell_type": "code",
   "execution_count": 50,
   "metadata": {},
   "outputs": [
    {
     "name": "stdout",
     "output_type": "stream",
     "text": [
      "02-02-2020\n"
     ]
    }
   ],
   "source": [
    "filter_documents(reports, year, month)"
   ]
  },
  {
   "cell_type": "code",
   "execution_count": null,
   "metadata": {},
   "outputs": [],
   "source": []
  }
 ],
 "metadata": {
  "kernelspec": {
   "display_name": "Python 3",
   "language": "python",
   "name": "python3"
  },
  "language_info": {
   "codemirror_mode": {
    "name": "ipython",
    "version": 3
   },
   "file_extension": ".py",
   "mimetype": "text/x-python",
   "name": "python",
   "nbconvert_exporter": "python",
   "pygments_lexer": "ipython3",
   "version": "3.7.3"
  }
 },
 "nbformat": 4,
 "nbformat_minor": 2
}
